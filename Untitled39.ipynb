{
 "cells": [
  {
   "cell_type": "code",
   "execution_count": 2,
   "id": "ac1f34a7",
   "metadata": {},
   "outputs": [
    {
     "name": "stdout",
     "output_type": "stream",
     "text": [
      "Pair found (8, 2)\n"
     ]
    }
   ],
   "source": [
    "#Q1.Write a program to find all pairs of an integer array whose sum is equal to a given number?\n",
    "def Pair_finding(list1, finding ):\n",
    "    for i in range(len(list1) - 1):\n",
    "        for j in range(i + 1, len(list1)):\n",
    "            if list1[i] +list1[j] == finding :\n",
    "                print('Pair found', (list1[i], list1[j]))\n",
    "                return\n",
    "    print('Pair not found') \n",
    "list1 = [8, 7, 2, 5, 3, 1]\n",
    "finding = 10\n",
    "Pair_finding(list1,finding )\n"
   ]
  },
  {
   "cell_type": "code",
   "execution_count": 4,
   "id": "9aa3b747",
   "metadata": {},
   "outputs": [
    {
     "name": "stdout",
     "output_type": "stream",
     "text": [
      "[1, 2, 3, 4, 5, 6]\n",
      "Reversed list is\n",
      "[6, 5, 4, 3, 2, 1]\n"
     ]
    }
   ],
   "source": [
    "#Q2. Write a program to reverse an array in place? In place means you cannot create a new array. You have to update the original array.\n",
    "def reverseList(A, start, end):\n",
    "    while start < end:\n",
    "        A[start], A[end] = A[end], A[start]\n",
    "        start += 1\n",
    "        end -= 1\n",
    "        \n",
    "arr = [1, 2, 3, 4, 5, 6]\n",
    "print(arr)\n",
    "reverseList(arr, 0, 5)\n",
    "print(\"Reversed list is\")\n",
    "print(arr)"
   ]
  },
  {
   "cell_type": "code",
   "execution_count": 5,
   "id": "44833b4f",
   "metadata": {},
   "outputs": [
    {
     "name": "stdout",
     "output_type": "stream",
     "text": [
      "Strings are rotations of each other\n"
     ]
    }
   ],
   "source": [
    "#Q3. Write a program to check if two strings are a rotation of each other?\n",
    "def Rotations(string1, string2):\n",
    "    len1 = len(string1)\n",
    "    len2 = len(string2)\n",
    "    emp_str = ''\n",
    " \n",
    "    if len1 != len2:\n",
    "        return 0\n",
    "    emp_str= string1 + string1\n",
    "    if (emp_str.count(string2)> 0):\n",
    "        return 1\n",
    "    else:\n",
    "        return 0\n",
    "\n",
    "string1 = \"AACD\"\n",
    "string2 = \"ACDA\"\n",
    " \n",
    "if Rotations(string1, string2):\n",
    "    print (\"Strings are rotations of each other\")\n",
    "else:\n",
    "    print (\"Strings are not rotations of each other\")"
   ]
  },
  {
   "cell_type": "code",
   "execution_count": 6,
   "id": "ada75d2e",
   "metadata": {},
   "outputs": [
    {
     "name": "stdout",
     "output_type": "stream",
     "text": [
      "First non-repeating character is f\n"
     ]
    }
   ],
   "source": [
    "#Q4. Write a program to print the first non-repeated character from a string?\n",
    "def getCharCountArray(string):\n",
    "    count = [0] * CHARS\n",
    "    for i in string:\n",
    "        count[ord(i)]+= 1\n",
    "    return count\n",
    "\n",
    "def firstNonRepeating(string):\n",
    "    count = getCharCountArray(string)\n",
    "    index = -1\n",
    "    k = 0\n",
    " \n",
    "    for i in string:\n",
    "        if count[ord(i)] == 1:\n",
    "            index = k\n",
    "            break\n",
    "        k += 1\n",
    " \n",
    "    return index\n",
    "CHARS = 256\n",
    "string = \"geeksforgeeks\"\n",
    "index = firstNonRepeating(string)\n",
    "if index == 1:\n",
    "    print (\"Either all characters are repeating or string is empty\")\n",
    "else:\n",
    "    print (\"First non-repeating character is \" + string[index])"
   ]
  },
  {
   "cell_type": "code",
   "execution_count": 7,
   "id": "3b9bc656",
   "metadata": {},
   "outputs": [
    {
     "name": "stdout",
     "output_type": "stream",
     "text": [
      "Move disk 1 from rod A to rod B\n",
      "Move disk 2 from rod A to rod C\n",
      "Move disk 1 from rod B to rod C\n",
      "Move disk 3 from rod A to rod B\n",
      "Move disk 1 from rod C to rod A\n",
      "Move disk 2 from rod C to rod B\n",
      "Move disk 1 from rod A to rod B\n",
      "Move disk 4 from rod A to rod C\n",
      "Move disk 1 from rod B to rod C\n",
      "Move disk 2 from rod B to rod A\n",
      "Move disk 1 from rod C to rod A\n",
      "Move disk 3 from rod B to rod C\n",
      "Move disk 1 from rod A to rod B\n",
      "Move disk 2 from rod A to rod C\n",
      "Move disk 1 from rod B to rod C\n"
     ]
    }
   ],
   "source": [
    "#Q5. Read about the Tower of Hanoi algorithm. Write a program to implement it.\n",
    "def Tower_Of_Hanoi(n , rod1, rod2, aux_rod):\n",
    "    if n == 1:\n",
    "        print(\"Move disk 1 from rod\",rod1,\"to rod\",rod2)\n",
    "        return\n",
    "    Tower_Of_Hanoi(n-1,rod1, aux_rod, rod2)\n",
    "    print(\"Move disk\",n,\"from rod\",rod1,\"to rod\",rod2)\n",
    "    Tower_Of_Hanoi(n-1, aux_rod, rod2, rod1)\n",
    "         \n",
    "n = 4\n",
    "Tower_Of_Hanoi(n, 'A', 'C', 'B')"
   ]
  },
  {
   "cell_type": "code",
   "execution_count": 8,
   "id": "41856d55",
   "metadata": {},
   "outputs": [
    {
     "name": "stdout",
     "output_type": "stream",
     "text": [
      "ABC/-AK/L-*\n"
     ]
    }
   ],
   "source": [
    "#Q6. Read about infix, prefix, and postfix expressions. Write a program to convert postfix to prefix expression.\n",
    "s = \"*-A/BC-/AKL\"\n",
    "stack = []\n",
    "operators = set(['+', '-', '*', '/', '^'])\n",
    " \n",
    "s = s[::-1]\n",
    " \n",
    "for i in s:\n",
    "    if i in operators:\n",
    "        a = stack.pop()\n",
    "        b = stack.pop()\n",
    "        temp = a+b+i\n",
    "        stack.append(temp)\n",
    "    else:\n",
    "        stack.append(i)\n",
    "print(*stack)"
   ]
  },
  {
   "cell_type": "code",
   "execution_count": 9,
   "id": "8d9f9783",
   "metadata": {},
   "outputs": [
    {
     "name": "stdout",
     "output_type": "stream",
     "text": [
      "((A-(B/C))*((A/K)-L))\n"
     ]
    }
   ],
   "source": [
    "#Q7. Write a program to convert prefix expression to infix expression.\n",
    "def prefixToInfix(prefix):\n",
    "    stack = []\n",
    "    i = len(prefix) - 1\n",
    "    while i >= 0:\n",
    "        if not is_Operator(prefix[i]):\n",
    "            stack.append(prefix[i])\n",
    "            i -= 1\n",
    "        else:\n",
    "            str = \"(\" + stack.pop() + prefix[i] + stack.pop() + \")\"\n",
    "            stack.append(str)\n",
    "            i -= 1\n",
    "    return stack.pop()\n",
    " \n",
    "def is_Operator(c):\n",
    "    if c == \"*\" or c == \"+\" or c == \"-\" or c == \"/\" or c == \"^\" or c == \"(\" or c == \")\":\n",
    "        return True\n",
    "    else:\n",
    "        return False\n",
    "\n",
    "str = \"*-A/BC-/AKL\"\n",
    "print(prefixToInfix(str))"
   ]
  },
  {
   "cell_type": "code",
   "execution_count": 10,
   "id": "01465e67",
   "metadata": {},
   "outputs": [
    {
     "name": "stdout",
     "output_type": "stream",
     "text": [
      "Balanced\n"
     ]
    }
   ],
   "source": [
    "#Q8. Write a program to check if all the brackets are closed in a given code snippet.\n",
    "def areBracketsBalanced(expr):\n",
    "    stack = []\n",
    "    for char in expr:\n",
    "        if char in [\"(\", \"{\", \"[\"]:\n",
    "            stack.append(char)\n",
    "        else:\n",
    "            if not stack:\n",
    "                return False\n",
    "            current_char = stack.pop()\n",
    "            if current_char == '(':\n",
    "                if char != \")\":\n",
    "                    return False\n",
    "            if current_char == '{':\n",
    "                if char != \"}\":\n",
    "                    return False\n",
    "            if current_char == '[':\n",
    "                if char != \"]\":\n",
    "                    return False\n",
    "    if stack:\n",
    "        return False\n",
    "    return True\n",
    " \n",
    "expr = \"{()}[]\"\n",
    "if areBracketsBalanced(expr):\n",
    "    print(\"Balanced\")\n",
    "else:\n",
    "    print(\"Not Balanced\")"
   ]
  },
  {
   "cell_type": "code",
   "execution_count": 11,
   "id": "79ecd136",
   "metadata": {},
   "outputs": [
    {
     "name": "stdout",
     "output_type": "stream",
     "text": [
      "Original Stack \n",
      "1 2 3 4 \n",
      "Reversed Stack \n",
      "4 3 2 1 \n"
     ]
    }
   ],
   "source": [
    "#Q9. Write a program to reverse a stack.\n",
    "def insertAtBottom(stack, item):\n",
    "    if isEmpty(stack):\n",
    "        push(stack, item)\n",
    "    else:\n",
    "        temp = pop(stack)\n",
    "        insertAtBottom(stack, item)\n",
    "        push(stack, temp)\n",
    "def reverse(stack):\n",
    "    if not isEmpty(stack):\n",
    "        temp = pop(stack)\n",
    "        reverse(stack)\n",
    "        insertAtBottom(stack, temp)\n",
    "def createStack():\n",
    "    stack = []\n",
    "    return stack\n",
    "\n",
    "def isEmpty( stack ):\n",
    "    return len(stack) == 0\n",
    "\n",
    "def push( stack, item ):\n",
    "    stack.append(item)\n",
    "    \n",
    "def pop( stack ):\n",
    "    if(isEmpty( stack )):\n",
    "        print(\"Stack Underflow \")\n",
    "        exit(1)\n",
    "    return stack.pop()\n",
    "\n",
    "def prints(stack):\n",
    "    for i in range(len(stack)-1, -1, -1):\n",
    "        print(stack[i], end = ' ')\n",
    "        \n",
    "    print()\n",
    "stack=createStack()\n",
    "push( stack, 4)\n",
    "push( stack, 3)\n",
    "push( stack, 2)\n",
    "push( stack, 1)\n",
    "print(\"Original Stack \")\n",
    "prints(stack)\n",
    "reverse(stack)\n",
    "print(\"Reversed Stack \")\n",
    "prints(stack)\n"
   ]
  },
  {
   "cell_type": "code",
   "execution_count": 12,
   "id": "20706008",
   "metadata": {},
   "outputs": [
    {
     "name": "stdout",
     "output_type": "stream",
     "text": [
      "After push 6 --> 6 is minimum\n",
      "After push 7 --> 6 is minimum\n",
      "After push 5 --> 5 is minimum\n",
      "After push 3 --> 3 is minimum\n",
      "After pop --> 5 is minimum\n",
      "After pop --> 6 is minimum\n"
     ]
    }
   ],
   "source": [
    "#Q10. Write a program to find the smallest number using a stack.\n",
    "from collections import deque\n",
    " \n",
    "class MinStack:\n",
    "    def __init__(self):\n",
    " \n",
    "        # main stack to store elements\n",
    "        self.s = deque()\n",
    " \n",
    "        # variable to store the minimum element\n",
    "        self.min = None\n",
    " \n",
    "    # Inserts a given element on top of the stack\n",
    "    def push(self, x):\n",
    " \n",
    "        if not self.s:\n",
    "            self.s.append(x)\n",
    "            self.min = x\n",
    " \n",
    "        elif x > self.min:\n",
    "            self.s.append(x)\n",
    " \n",
    "        else:\n",
    "            self.s.append(2*x - self.min)\n",
    "            self.min = x\n",
    " \n",
    "    # Removes the top element from the stack and returns it\n",
    "    def pop(self):\n",
    " \n",
    "        if not self.s:\n",
    "            self.print(\"Stack underflow!!\")\n",
    " \n",
    "        top = self.s[-1]\n",
    "        if top < self.min:\n",
    "            self.min = 2*self.min - top\n",
    "        self.s.pop()\n",
    " \n",
    "    def minimum(self):\n",
    " \n",
    "        return self.min\n",
    " \n",
    "s = MinStack()\n",
    " \n",
    "s.push(6)\n",
    "print(\"After push 6 -->\",s.minimum(),\"is minimum\")\n",
    " \n",
    "s.push(7)\n",
    "print(\"After push 7 -->\",s.minimum(),\"is minimum\")\n",
    " \n",
    "s.push(5)\n",
    "print(\"After push 5 -->\",s.minimum(),\"is minimum\")\n",
    " \n",
    "s.push(3)\n",
    "print(\"After push 3 -->\",s.minimum(),\"is minimum\")\n",
    " \n",
    "s.pop()\n",
    "print(\"After pop -->\",s.minimum(),\"is minimum\")\n",
    "s.pop()\n",
    "print(\"After pop -->\",s.minimum(),\"is minimum\")"
   ]
  },
  {
   "cell_type": "code",
   "execution_count": null,
   "id": "6e184f5a",
   "metadata": {},
   "outputs": [],
   "source": []
  }
 ],
 "metadata": {
  "kernelspec": {
   "display_name": "Python 3",
   "language": "python",
   "name": "python3"
  },
  "language_info": {
   "codemirror_mode": {
    "name": "ipython",
    "version": 3
   },
   "file_extension": ".py",
   "mimetype": "text/x-python",
   "name": "python",
   "nbconvert_exporter": "python",
   "pygments_lexer": "ipython3",
   "version": "3.8.8"
  }
 },
 "nbformat": 4,
 "nbformat_minor": 5
}
